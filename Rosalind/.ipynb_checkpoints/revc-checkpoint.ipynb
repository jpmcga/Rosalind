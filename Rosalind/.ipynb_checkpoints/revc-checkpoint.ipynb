{
 "cells": [
  {
   "cell_type": "code",
   "execution_count": 11,
   "metadata": {},
   "outputs": [
    {
     "data": {
      "text/plain": [
       "'CGAT'"
      ]
     },
     "execution_count": 11,
     "metadata": {},
     "output_type": "execute_result"
    }
   ],
   "source": [
    "# def reverse_comp(string):\n",
    "    \n",
    "#     string = string.upper()\n",
    "    \n",
    "#     comp_dict = {'A': 'T',\n",
    "#                  'T': 'A',\n",
    "#                  'C': 'G',\n",
    "#                  'G': 'C'}\n",
    "    \n",
    "#     reverse_comp = list(string[::-1])\n",
    "    \n",
    "#     for position in range(len(reverse_comp)):\n",
    "#         nt = reverse_comp[position]\n",
    "#         reverse_comp[position] = comp_dict[nt]\n",
    "    \n",
    "#     return \"\".join(reverse_comp)\n",
    "    \n",
    "    \n",
    "# reverse_comp(\"atcg\")"
   ]
  },
  {
   "cell_type": "code",
   "execution_count": 17,
   "metadata": {},
   "outputs": [
    {
     "data": {
      "text/plain": [
       "'AAAATTTCGCTTCGCCGTGTGCTTCTAATGTGGTGAATGCGAACCTATTACCGACAATATAATTTGCTGTAAAGGATGTCTCACGTGACTGGGTGAGGGCAATGACATCGGTAAATAGAATTACACGGATGGCTCACGAGAGCGTGCCAACTGGCATGACTTAACGTTGTGACTGAAGCGCCAGGTTCCCATTGCATATGTCTTTTTGTTTGCACATCTGTCCGATCGACGTTCCTAAAGGGTGTGAGATTAGCTGCGGTCATCTAAGTTATACCGCTTAGCTATTTAGGAACATTTTCAACGTATTTCTCTAGCTCCCAGGCCATATTTTGAGAGAACTCCGCCAATAGAAACCTAGAGTAACGTCCTACGGCGAGTAACTCGCACGTAATCCGTTGTGGATTTGCTCTTCAGAGGACCGAGTGAGTCACCAGAGTAAATTGGCGGCGCGGCAAGCCTTTCCTGGCATAGCCAAACGTGAATTTACTGCAGCACGCAGGATTCAGCATTTATTCTGTGCTCCTATCTCCGTCTACACCTCGCTCAAAGTTCTTATGAAAGCAAACGTGGATGAGAGATGAGCTAGTGTGTAATGGTTGTGTCCGGATGTCACATATTTTCTCCTTCGCAACTAAAACGAGATAATGGGTATGCAGTGTAGACCATCAAGGCTCTTCACACAAGCATCTGTTCCTAAGATGTTTCTTGTAGGAGAGTTGCTATTTCGACACGGTAAAAATGTCTGAGCAATCTGTGGGGCCCCCTTTAGACGACCCCCCCTGGAACTTTATTAGGATAGTAAGACATGCTTGAATGCGTAGAGCCAGCATTGCCATATCCCCTGATACCTTGCCATAGGTGCGCTGCGAGAACTTATATGTCTCTAAATACTGAAACGCAC'"
      ]
     },
     "execution_count": 17,
     "metadata": {},
     "output_type": "execute_result"
    }
   ],
   "source": [
    "def reverse_comp(string):\n",
    "    \n",
    "    string = string.upper()\n",
    "    \n",
    "    dct = {'A': 'T',\n",
    "           'T': 'A',\n",
    "           'C': 'G',\n",
    "           'G': 'C'}\n",
    "    \n",
    "    new_string = \"\"\n",
    "    for char in string[::-1]:\n",
    "        new_string = new_string + dct[char]\n",
    "        \n",
    "    \n",
    "    return new_string\n",
    "reverse_comp(\"GTGCGTTTCAGTATTTAGAGACATATAAGTTCTCGCAGCGCACCTATGGCAAGGTATCAGGGGATATGGCAATGCTGGCTCTACGCATTCAAGCATGTCTTACTATCCTAATAAAGTTCCAGGGGGGGTCGTCTAAAGGGGGCCCCACAGATTGCTCAGACATTTTTACCGTGTCGAAATAGCAACTCTCCTACAAGAAACATCTTAGGAACAGATGCTTGTGTGAAGAGCCTTGATGGTCTACACTGCATACCCATTATCTCGTTTTAGTTGCGAAGGAGAAAATATGTGACATCCGGACACAACCATTACACACTAGCTCATCTCTCATCCACGTTTGCTTTCATAAGAACTTTGAGCGAGGTGTAGACGGAGATAGGAGCACAGAATAAATGCTGAATCCTGCGTGCTGCAGTAAATTCACGTTTGGCTATGCCAGGAAAGGCTTGCCGCGCCGCCAATTTACTCTGGTGACTCACTCGGTCCTCTGAAGAGCAAATCCACAACGGATTACGTGCGAGTTACTCGCCGTAGGACGTTACTCTAGGTTTCTATTGGCGGAGTTCTCTCAAAATATGGCCTGGGAGCTAGAGAAATACGTTGAAAATGTTCCTAAATAGCTAAGCGGTATAACTTAGATGACCGCAGCTAATCTCACACCCTTTAGGAACGTCGATCGGACAGATGTGCAAACAAAAAGACATATGCAATGGGAACCTGGCGCTTCAGTCACAACGTTAAGTCATGCCAGTTGGCACGCTCTCGTGAGCCATCCGTGTAATTCTATTTACCGATGTCATTGCCCTCACCCAGTCACGTGAGACATCCTTTACAGCAAATTATATTGTCGGTAATAGGTTCGCATTCACCACATTAGAAGCACACGGCGAAGCGAAATTTT\")"
   ]
  },
  {
   "cell_type": "code",
   "execution_count": null,
   "metadata": {},
   "outputs": [],
   "source": []
  }
 ],
 "metadata": {
  "kernelspec": {
   "display_name": "Python 3",
   "language": "python",
   "name": "python3"
  },
  "language_info": {
   "codemirror_mode": {
    "name": "ipython",
    "version": 3
   },
   "file_extension": ".py",
   "mimetype": "text/x-python",
   "name": "python",
   "nbconvert_exporter": "python",
   "pygments_lexer": "ipython3",
   "version": "3.7.4"
  }
 },
 "nbformat": 4,
 "nbformat_minor": 2
}
