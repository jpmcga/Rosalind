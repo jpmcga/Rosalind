{
 "cells": [
  {
   "cell_type": "code",
   "execution_count": 125,
   "metadata": {},
   "outputs": [],
   "source": [
    "import itertools\n",
    "\n",
    "def read_tree(filename):\n",
    "    file = open(filename)\n",
    "    tree = [x.rstrip().split(\" \") for x in file.readlines()]\n",
    "    n = int(\"\".join(tree.pop(0)))\n",
    "    \n",
    "    return tree, n\n",
    "\n",
    "\n",
    "def combine_lists(list1, list2):\n",
    "    for ele in list1:\n",
    "        if ele in list2:\n",
    "            return set(list1 + list2)\n",
    "\n",
    "        \n",
    "def get_paths(filename):\n",
    "    \n",
    "    tree, n = read_tree(filename)\n",
    "    nodes = [str(x+1) for x in range(n)]\n",
    "\n",
    "    paths = [combine_lists(a,b) for a,b in itertools.combinations(tree, 2)\n",
    "                if combine_lists(a,b) is not None]\n",
    "\n",
    "    for node in nodes:\n",
    "        if node not in itertools.chain(*paths):\n",
    "            paths.append({node})\n",
    "\n",
    "    return paths"
   ]
  },
  {
   "cell_type": "code",
   "execution_count": null,
   "metadata": {},
   "outputs": [
    {
     "name": "stdout",
     "output_type": "stream",
     "text": [
      "[{'31', '113'}]\n"
     ]
    }
   ],
   "source": [
    "tree, n = read_tree(\"txt_files/rosalind_tree.txt\")\n",
    "nodes = [str(x+1) for x in range(n)]\n",
    "\n",
    "branches = [set(tree.pop(0))]\n",
    "print(branches)\n",
    "for edge in tree:\n",
    "    for branch in branches:\n",
    "        if edge[0] in branch or edge[1] in branch:\n",
    "            branch.add(edge[0])\n",
    "            branch.add(edge[1])\n",
    "        else:\n",
    "            branches.append(set(edge))\n",
    "print(branches)\n",
    "#     for a,b in itertools.combinations(tree, 2)"
   ]
  },
  {
   "cell_type": "code",
   "execution_count": null,
   "metadata": {},
   "outputs": [],
   "source": [
    "paths = get_paths(\"txt_files/rosalind_tree.txt\")\n",
    "print(\"edges to complete\", len(paths)-1)\n",
    "print()\n",
    "\n",
    "for i, path in enumerate(paths):\n",
    "    print(path)\n",
    "    if i != len(paths)-1:\n",
    "        print(\"|\")\n",
    "\n"
   ]
  },
  {
   "cell_type": "code",
   "execution_count": null,
   "metadata": {},
   "outputs": [],
   "source": [
    "for path in"
   ]
  }
 ],
 "metadata": {
  "kernelspec": {
   "display_name": "Python 3",
   "language": "python",
   "name": "python3"
  },
  "language_info": {
   "codemirror_mode": {
    "name": "ipython",
    "version": 3
   },
   "file_extension": ".py",
   "mimetype": "text/x-python",
   "name": "python",
   "nbconvert_exporter": "python",
   "pygments_lexer": "ipython3",
   "version": "3.7.4"
  }
 },
 "nbformat": 4,
 "nbformat_minor": 2
}
