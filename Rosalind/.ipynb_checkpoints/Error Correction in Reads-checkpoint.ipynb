{
 "cells": [
  {
   "cell_type": "code",
   "execution_count": 2,
   "metadata": {},
   "outputs": [],
   "source": [
    "def hamming(st1, st2):\n",
    "    \n",
    "    hamming = 0\n",
    "    pairs = zip(list(st1), list(st2))\n",
    "    for pair in pairs:\n",
    "        if pair[0] != pair[1]:\n",
    "            hamming += 1\n",
    "    return hamming"
   ]
  },
  {
   "cell_type": "code",
   "execution_count": 3,
   "metadata": {},
   "outputs": [],
   "source": [
    "from collections import defaultdict\n",
    "def fasta_to_dict(filename):\n",
    "\n",
    "    file = open(f\"{filename}\")\n",
    "\n",
    "    # Get dict from fasta\n",
    "    sequences = defaultdict(str)\n",
    "\n",
    "    for line in file:\n",
    "        line = line.rstrip()\n",
    "        if line.startswith('>'):\n",
    "            name = line.strip('>')\n",
    "        else:\n",
    "            sequences[name] = sequences[name] + line\n",
    "    \n",
    "    return sequences"
   ]
  },
  {
   "cell_type": "code",
   "execution_count": 4,
   "metadata": {},
   "outputs": [],
   "source": [
    "def concensus(sequences):\n",
    "    dict1 = {}\n",
    "    bases = ['A', 'C', 'G', 'T']\n",
    "\n",
    "    # Assume all the same length\n",
    "    length = len(list(sequences.values())[0])\n",
    "    for pos in range(length):\n",
    "\n",
    "        # How else to get 0 in here?\n",
    "        dict2 = {}\n",
    "        for base in bases:\n",
    "            dict2[base] = 0\n",
    "\n",
    "        for sequence in sequences.values():\n",
    "            dict2[sequence[pos]] += 1\n",
    "        dict1[pos] = dict2\n",
    "\n",
    "    # this could be cleaned up\n",
    "    lst1 = []\n",
    "    for value in dict1.values():\n",
    "        lst2 = []\n",
    "        for v in value.items():\n",
    "            lst2.append(v)\n",
    "        lst1.append(sorted(lst2, key = lambda count: count[1], reverse = True)[0][0])\n",
    "\n",
    "    consensus = ''.join(lst1)\n",
    "    \n",
    "    return consensus"
   ]
  },
  {
   "cell_type": "code",
   "execution_count": 30,
   "metadata": {},
   "outputs": [
    {
     "data": {
      "text/plain": [
       "defaultdict(list,\n",
       "            {'TTTCC': ['TTTCC', 'TTTCA'],\n",
       "             'TCATC': ['TCATC', 'TCATC', 'TCATC', 'TCATC'],\n",
       "             'TTCAT': ['TTCAT', 'TTCAT', 'TTGAT'],\n",
       "             'TGAAA': ['TGAAA', 'TGAAA', 'TGAAA'],\n",
       "             'GAGGA': ['GAGGA', 'GAGGA', 'GAGGA', 'GAGGA'],\n",
       "             'TTTCA': ['TTTCA', 'TTTCA', 'TTTCA', 'TTTCA'],\n",
       "             'ATCAA': ['ATCAA', 'ATCAA', 'ATCAA', 'ATCAA', 'ATCAA', 'ATCAA'],\n",
       "             'TTGAT': ['TTGAT', 'TTGAT', 'TTGAT', 'TTGAT', 'TTGAT', 'TTGAT']})"
      ]
     },
     "execution_count": 30,
     "metadata": {},
     "output_type": "execute_result"
    }
   ],
   "source": [
    "from collections import defaultdict\n",
    "\n",
    "sequences = list(fasta_to_dict(\"txt_files/error_correction.txt\").values())\n",
    "dct = defaultdict(list)\n",
    "\n",
    "initial = sequences.pop()\n",
    "dct[initial].append(initial)\n",
    "\n",
    "for sequence in sequences:\n",
    "    for item in list(dct.keys()):\n",
    "        if hamming(item, sequence) <= 1:\n",
    "            dct[item].append(sequence)\n",
    "        else:\n",
    "            dct[sequence].append(sequence)\n",
    "dct           \n",
    "            "
   ]
  },
  {
   "cell_type": "code",
   "execution_count": null,
   "metadata": {},
   "outputs": [],
   "source": []
  },
  {
   "cell_type": "code",
   "execution_count": null,
   "metadata": {},
   "outputs": [],
   "source": []
  }
 ],
 "metadata": {
  "kernelspec": {
   "display_name": "Python 3",
   "language": "python",
   "name": "python3"
  },
  "language_info": {
   "codemirror_mode": {
    "name": "ipython",
    "version": 3
   },
   "file_extension": ".py",
   "mimetype": "text/x-python",
   "name": "python",
   "nbconvert_exporter": "python",
   "pygments_lexer": "ipython3",
   "version": "3.7.4"
  }
 },
 "nbformat": 4,
 "nbformat_minor": 2
}
