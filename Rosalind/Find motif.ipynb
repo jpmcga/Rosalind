{
 "cells": [
  {
   "cell_type": "code",
   "execution_count": 26,
   "metadata": {},
   "outputs": [],
   "source": [
    "def find_motif(string, sub_string):\n",
    "\n",
    "    positions = []\n",
    "    for pos in range(len(string)):\n",
    "        if string[pos:pos + len(sub_string)] == sub_string:\n",
    "            positions.append(pos+1)\n",
    "        \n",
    "    return positions"
   ]
  },
  {
   "cell_type": "code",
   "execution_count": 28,
   "metadata": {},
   "outputs": [
    {
     "name": "stdout",
     "output_type": "stream",
     "text": [
      "3 44 77 126 171 230 237 277 363 401 408 513 552 596 603 681 699 746 776 783 790 841 880 "
     ]
    }
   ],
   "source": [
    "res = find_motif('TTCGTTGAACGTTGAAACACGTTGAAGCAGCCCAGTGACGTCCCGTTGAACGTTGAAGGTAAAGCGTTGAAACTGACGTTGAACGTTGAAACGTTGAATCGTTGAAACGTTGAAACAAGCGGCTACGTTGAACGTTGAAGCTAGACGTTGAAACGTTGAATGCGTTGAATCGTTGAACGCGTTGAATCCGTTGAAAGGCTCGTTGAAATGCCCGTTGAAACGTTGAAGACGTTGAACGTTGAACGTTGAACCCCGTTGAACTCGTTGAAACTATTCCGTTGAACGTTGAATCGTTGAACACAGACGTTGAACTCCGTTGAACTGATTATAACGATAACGTTGAAGCCGTTGAAGCGTTGAAGCGTTGAACGTTGAAAGTACGTTGAAAAGACCGTTGAAGCGTTGAACGTTGAACGTTGAAGTCCCGTTGAAGGCGTTGAAATGACTCGTTGAAGCCGTTGAAGACTGCCGTTGAAACGTTGAAGCGTTGAAACCAGCAAAAACCAAGAGCCCGTTGAACGTTGAAAAGCGTTGAACACGCGTTGAACAATCGTTGAACGTTGAATCCTCAAGGTGGCGTTGAACCCCGTTGAAACGTTGAACGTTGAACGTTGAACCGTTGAATCGTTGAACAGCGTTGAACCAGAAGGCCGTTGAACAATATAGAATCCGTTGAATCTCGTTGAACGTTGAAGCGCCGTTGAACGCGTTGAAAATACCCCCGTTGAACTCTGAGGCGTTGAATCGTTGAACGTTGAATGCATCTGCGTTGAAGCGTTGAACGTTGAACGTTGAACGTTGAACCGTTGAAGTCCGTTGAACTCCCCTGACTCGTTGAACCGTTGAACGTTGAAGTGCGTTGAAGTGTACCCGTTGAACCGTTGAACGTTGAATGCTGACTCGTTGAATCGTTGAAACGCGTTGAAGGACCGTTGAAGACCGTTGAATAGTCGTTGAAATAC',\n",
    "                 'CGTTGAACG')\n",
    "for item in res:\n",
    "    print(item, end = \" \")"
   ]
  },
  {
   "cell_type": "code",
   "execution_count": null,
   "metadata": {},
   "outputs": [],
   "source": []
  }
 ],
 "metadata": {
  "kernelspec": {
   "display_name": "Python 3",
   "language": "python",
   "name": "python3"
  },
  "language_info": {
   "codemirror_mode": {
    "name": "ipython",
    "version": 3
   },
   "file_extension": ".py",
   "mimetype": "text/x-python",
   "name": "python",
   "nbconvert_exporter": "python",
   "pygments_lexer": "ipython3",
   "version": "3.7.4"
  }
 },
 "nbformat": 4,
 "nbformat_minor": 2
}
